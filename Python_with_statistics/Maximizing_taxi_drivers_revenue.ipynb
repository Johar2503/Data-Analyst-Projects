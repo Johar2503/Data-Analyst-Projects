{
 "cells": [
  {
   "cell_type": "code",
   "execution_count": 78,
   "id": "0ac89fd2-21ce-47bf-a69c-40f81eff65f7",
   "metadata": {},
   "outputs": [],
   "source": [
    "# Exploratory Data Analysis"
   ]
  },
  {
   "cell_type": "code",
   "execution_count": 134,
   "id": "c145c7fe-5773-4e8b-b288-f81812b1c661",
   "metadata": {},
   "outputs": [],
   "source": [
    "### Exploratory Data Analysis\n",
    "\n",
    "import pandas as pd\n",
    "import matplotlib.pyplot as plt\n",
    "import seaborn as sns\n",
    "import scipy.stats as st\n",
    "import statsmodels.api as sm\n",
    "import warnings\n",
    "warnings.filterwarnings('ignore')"
   ]
  },
  {
   "cell_type": "code",
   "execution_count": 135,
   "id": "e8c53fd9-a02a-4d55-9aa6-2dccbd57ceea",
   "metadata": {},
   "outputs": [
    {
     "name": "stdout",
     "output_type": "stream",
     "text": [
      "   VendorID tpep_pickup_datetime tpep_dropoff_datetime  passenger_count  \\\n",
      "0       1.0  2020-01-01 00:28:15   2020-01-01 00:33:03              1.0   \n",
      "1       1.0  2020-01-01 00:35:39   2020-01-01 00:43:04              1.0   \n",
      "2       1.0  2020-01-01 00:47:41   2020-01-01 00:53:52              1.0   \n",
      "3       1.0  2020-01-01 00:55:23   2020-01-01 01:00:14              1.0   \n",
      "4       2.0  2020-01-01 00:01:58   2020-01-01 00:04:16              1.0   \n",
      "\n",
      "   trip_distance  RatecodeID store_and_fwd_flag  PULocationID  DOLocationID  \\\n",
      "0            1.2         1.0                  N           238           239   \n",
      "1            1.2         1.0                  N           239           238   \n",
      "2            0.6         1.0                  N           238           238   \n",
      "3            0.8         1.0                  N           238           151   \n",
      "4            0.0         1.0                  N           193           193   \n",
      "\n",
      "   payment_type  fare_amount  extra  mta_tax  tip_amount  tolls_amount  \\\n",
      "0           1.0          6.0    3.0      0.5        1.47           0.0   \n",
      "1           1.0          7.0    3.0      0.5        1.50           0.0   \n",
      "2           1.0          6.0    3.0      0.5        1.00           0.0   \n",
      "3           1.0          5.5    0.5      0.5        1.36           0.0   \n",
      "4           2.0          3.5    0.5      0.5        0.00           0.0   \n",
      "\n",
      "   improvement_surcharge  total_amount  congestion_surcharge  \n",
      "0                    0.3         11.27                   2.5  \n",
      "1                    0.3         12.30                   2.5  \n",
      "2                    0.3         10.80                   2.5  \n",
      "3                    0.3          8.16                   0.0  \n",
      "4                    0.3          4.80                   0.0  \n"
     ]
    }
   ],
   "source": [
    "#read the data file\n",
    "df=pd.read_csv(\"yellow_tripdata_2020-01.csv\")\n",
    "print(df.head())"
   ]
  },
  {
   "cell_type": "code",
   "execution_count": 136,
   "id": "21a2b09c-deb6-48bf-a4ff-ebde4f6b560d",
   "metadata": {},
   "outputs": [
    {
     "name": "stdout",
     "output_type": "stream",
     "text": [
      "         VendorID tpep_pickup_datetime tpep_dropoff_datetime  passenger_count  \\\n",
      "0             1.0  2020-01-01 00:28:15   2020-01-01 00:33:03              1.0   \n",
      "1             1.0  2020-01-01 00:35:39   2020-01-01 00:43:04              1.0   \n",
      "2             1.0  2020-01-01 00:47:41   2020-01-01 00:53:52              1.0   \n",
      "3             1.0  2020-01-01 00:55:23   2020-01-01 01:00:14              1.0   \n",
      "4             2.0  2020-01-01 00:01:58   2020-01-01 00:04:16              1.0   \n",
      "...           ...                  ...                   ...              ...   \n",
      "6405003       NaN  2020-01-31 22:51:00   2020-01-31 23:22:00              NaN   \n",
      "6405004       NaN  2020-01-31 22:10:00   2020-01-31 23:26:00              NaN   \n",
      "6405005       NaN  2020-01-31 22:50:07   2020-01-31 23:17:57              NaN   \n",
      "6405006       NaN  2020-01-31 22:25:53   2020-01-31 22:48:32              NaN   \n",
      "6405007       NaN  2020-01-31 22:44:00   2020-01-31 23:06:00              NaN   \n",
      "\n",
      "         trip_distance  RatecodeID store_and_fwd_flag  PULocationID  \\\n",
      "0                 1.20         1.0                  N           238   \n",
      "1                 1.20         1.0                  N           239   \n",
      "2                 0.60         1.0                  N           238   \n",
      "3                 0.80         1.0                  N           238   \n",
      "4                 0.00         1.0                  N           193   \n",
      "...                ...         ...                ...           ...   \n",
      "6405003           3.24         NaN                NaN           237   \n",
      "6405004          22.13         NaN                NaN           259   \n",
      "6405005          10.51         NaN                NaN           137   \n",
      "6405006           5.49         NaN                NaN            50   \n",
      "6405007          11.60         NaN                NaN           179   \n",
      "\n",
      "         DOLocationID  payment_type  fare_amount  extra  mta_tax  tip_amount  \\\n",
      "0                 239           1.0         6.00   3.00      0.5        1.47   \n",
      "1                 238           1.0         7.00   3.00      0.5        1.50   \n",
      "2                 238           1.0         6.00   3.00      0.5        1.00   \n",
      "3                 151           1.0         5.50   0.50      0.5        1.36   \n",
      "4                 193           2.0         3.50   0.50      0.5        0.00   \n",
      "...               ...           ...          ...    ...      ...         ...   \n",
      "6405003           234           NaN        17.59   2.75      0.5        0.00   \n",
      "6405004            45           NaN        46.67   2.75      0.5        0.00   \n",
      "6405005           169           NaN        48.85   2.75      0.0        0.00   \n",
      "6405006            42           NaN        27.17   2.75      0.0        0.00   \n",
      "6405007           205           NaN        54.56   2.75      0.5        0.00   \n",
      "\n",
      "         tolls_amount  improvement_surcharge  total_amount  \\\n",
      "0                0.00                    0.3         11.27   \n",
      "1                0.00                    0.3         12.30   \n",
      "2                0.00                    0.3         10.80   \n",
      "3                0.00                    0.3          8.16   \n",
      "4                0.00                    0.3          4.80   \n",
      "...               ...                    ...           ...   \n",
      "6405003          0.00                    0.3         21.14   \n",
      "6405004         12.24                    0.3         62.46   \n",
      "6405005          0.00                    0.3         51.90   \n",
      "6405006          0.00                    0.3         30.22   \n",
      "6405007          0.00                    0.3         58.11   \n",
      "\n",
      "         congestion_surcharge   duration  \n",
      "0                         2.5   4.800000  \n",
      "1                         2.5   7.416667  \n",
      "2                         2.5   6.183333  \n",
      "3                         0.0   4.850000  \n",
      "4                         0.0   2.300000  \n",
      "...                       ...        ...  \n",
      "6405003                   0.0  31.000000  \n",
      "6405004                   0.0  76.000000  \n",
      "6405005                   0.0  27.833333  \n",
      "6405006                   0.0  22.650000  \n",
      "6405007                   0.0  22.000000  \n",
      "\n",
      "[6405008 rows x 19 columns]\n"
     ]
    }
   ],
   "source": [
    "#modify the data type from object to datetime using pandas\n",
    "df['tpep_pickup_datetime']=pd.to_datetime(df['tpep_pickup_datetime'])\n",
    "df['tpep_dropoff_datetime']=pd.to_datetime(df['tpep_dropoff_datetime'])\n",
    "\n",
    "#getting duration of trip from pickup to drop\n",
    "df['duration']=df['tpep_dropoff_datetime']-df['tpep_pickup_datetime']\n",
    "\n",
    "#convert the time into seconds by dt.total_seconds and then seconds are converted into minutes\n",
    "#data type is changed from timedelta to float\n",
    "df['duration']=df['duration'].dt.total_seconds()/60\n",
    "print(df)"
   ]
  },
  {
   "cell_type": "code",
   "execution_count": 137,
   "id": "9f34a326-bccd-4c0c-9251-859e45cd6e75",
   "metadata": {},
   "outputs": [
    {
     "name": "stdout",
     "output_type": "stream",
     "text": [
      "   passenger_count  payment_type  fare_amount  trip_distance  duration\n",
      "0              1.0           1.0          6.0            1.2  4.800000\n",
      "1              1.0           1.0          7.0            1.2  7.416667\n",
      "2              1.0           1.0          6.0            0.6  6.183333\n",
      "3              1.0           1.0          5.5            0.8  4.850000\n",
      "4              1.0           2.0          3.5            0.0  2.300000\n"
     ]
    }
   ],
   "source": [
    "#selecting required columns as per problem statement from the whole dataset\n",
    "df=df[['passenger_count','payment_type','fare_amount','trip_distance','duration']]\n",
    "print(df.head())"
   ]
  },
  {
   "cell_type": "code",
   "execution_count": 138,
   "id": "8fef859f-b3e2-4041-8e9b-dc70639d56d2",
   "metadata": {},
   "outputs": [
    {
     "name": "stdout",
     "output_type": "stream",
     "text": [
      "<class 'pandas.core.frame.DataFrame'>\n",
      "RangeIndex: 6405008 entries, 0 to 6405007\n",
      "Data columns (total 5 columns):\n",
      " #   Column           Dtype  \n",
      "---  ------           -----  \n",
      " 0   passenger_count  float64\n",
      " 1   payment_type     float64\n",
      " 2   fare_amount      float64\n",
      " 3   trip_distance    float64\n",
      " 4   duration         float64\n",
      "dtypes: float64(5)\n",
      "memory usage: 244.3 MB\n"
     ]
    }
   ],
   "source": [
    "df.info()"
   ]
  },
  {
   "cell_type": "code",
   "execution_count": 139,
   "id": "b1b52217-812d-426d-acae-410263249170",
   "metadata": {},
   "outputs": [
    {
     "data": {
      "text/plain": [
       "passenger_count    65441\n",
       "payment_type       65441\n",
       "fare_amount            0\n",
       "trip_distance          0\n",
       "duration               0\n",
       "dtype: int64"
      ]
     },
     "execution_count": 139,
     "metadata": {},
     "output_type": "execute_result"
    }
   ],
   "source": [
    "#chekcing the count of null values\n",
    "df.isnull().sum() #dataframe contains 65441 null values"
   ]
  },
  {
   "cell_type": "code",
   "execution_count": 140,
   "id": "c7a53383-d1e6-467a-aa74-d6d3ab27d6b5",
   "metadata": {},
   "outputs": [
    {
     "data": {
      "text/plain": [
       "1.021716132126611"
      ]
     },
     "execution_count": 140,
     "metadata": {},
     "output_type": "execute_result"
    }
   ],
   "source": [
    "#percentage of null values from data set\n",
    "(65441/len(df))*100"
   ]
  },
  {
   "cell_type": "code",
   "execution_count": 141,
   "id": "bfab78c7-ff78-45a6-b181-1a2221af6238",
   "metadata": {},
   "outputs": [
    {
     "data": {
      "text/plain": [
       "(6339567, 5)"
      ]
     },
     "execution_count": 141,
     "metadata": {},
     "output_type": "execute_result"
    }
   ],
   "source": [
    "#since there is only 1% of null values in whole data set we delete the rows of null values\n",
    "df.dropna(inplace=True)\n",
    "df.isnull().sum() #dataframe contains 65441 null values\n",
    "#after deletion of null values the data has 6339567 rows\n",
    "df.shape "
   ]
  },
  {
   "cell_type": "code",
   "execution_count": 142,
   "id": "551e8513-1402-4ea8-855c-c15f8ad78c4b",
   "metadata": {},
   "outputs": [],
   "source": [
    "#converting the data types of passenger_count & payment_type to int64 from float64\n",
    "df['passenger_count']=df['passenger_count'].astype('int64')\n",
    "df['payment_type']=df['payment_type'].astype('int64')"
   ]
  },
  {
   "cell_type": "code",
   "execution_count": 143,
   "id": "4960fdba-6989-472e-91a4-6e8b3d09fcb3",
   "metadata": {},
   "outputs": [
    {
     "data": {
      "text/plain": [
       "(3007861, 5)"
      ]
     },
     "execution_count": 143,
     "metadata": {},
     "output_type": "execute_result"
    }
   ],
   "source": [
    "#checking  and removing duplicate values\n",
    "df.duplicated().sum() #data frame contains 3331706 duplicate values\n",
    "#removing duplicate values\n",
    "df.drop_duplicates(inplace=True)\n",
    "df.shape #after removing duplicates data frame has 3007861 rows"
   ]
  },
  {
   "cell_type": "code",
   "execution_count": 144,
   "id": "2429064b-e35c-45d7-a7d4-2383500df02b",
   "metadata": {},
   "outputs": [
    {
     "data": {
      "text/html": [
       "<div>\n",
       "<style scoped>\n",
       "    .dataframe tbody tr th:only-of-type {\n",
       "        vertical-align: middle;\n",
       "    }\n",
       "\n",
       "    .dataframe tbody tr th {\n",
       "        vertical-align: top;\n",
       "    }\n",
       "\n",
       "    .dataframe thead th {\n",
       "        text-align: right;\n",
       "    }\n",
       "</style>\n",
       "<table border=\"1\" class=\"dataframe\">\n",
       "  <thead>\n",
       "    <tr style=\"text-align: right;\">\n",
       "      <th></th>\n",
       "      <th>passenger_count</th>\n",
       "      <th>payment_type</th>\n",
       "      <th>fare_amount</th>\n",
       "      <th>trip_distance</th>\n",
       "      <th>duration</th>\n",
       "    </tr>\n",
       "  </thead>\n",
       "  <tbody>\n",
       "    <tr>\n",
       "      <th>0</th>\n",
       "      <td>1</td>\n",
       "      <td>1</td>\n",
       "      <td>6.0</td>\n",
       "      <td>1.20</td>\n",
       "      <td>4.800000</td>\n",
       "    </tr>\n",
       "    <tr>\n",
       "      <th>1</th>\n",
       "      <td>1</td>\n",
       "      <td>1</td>\n",
       "      <td>7.0</td>\n",
       "      <td>1.20</td>\n",
       "      <td>7.416667</td>\n",
       "    </tr>\n",
       "    <tr>\n",
       "      <th>2</th>\n",
       "      <td>1</td>\n",
       "      <td>1</td>\n",
       "      <td>6.0</td>\n",
       "      <td>0.60</td>\n",
       "      <td>6.183333</td>\n",
       "    </tr>\n",
       "    <tr>\n",
       "      <th>3</th>\n",
       "      <td>1</td>\n",
       "      <td>1</td>\n",
       "      <td>5.5</td>\n",
       "      <td>0.80</td>\n",
       "      <td>4.850000</td>\n",
       "    </tr>\n",
       "    <tr>\n",
       "      <th>4</th>\n",
       "      <td>1</td>\n",
       "      <td>2</td>\n",
       "      <td>3.5</td>\n",
       "      <td>0.00</td>\n",
       "      <td>2.300000</td>\n",
       "    </tr>\n",
       "    <tr>\n",
       "      <th>...</th>\n",
       "      <td>...</td>\n",
       "      <td>...</td>\n",
       "      <td>...</td>\n",
       "      <td>...</td>\n",
       "      <td>...</td>\n",
       "    </tr>\n",
       "    <tr>\n",
       "      <th>6339555</th>\n",
       "      <td>3</td>\n",
       "      <td>1</td>\n",
       "      <td>10.0</td>\n",
       "      <td>2.09</td>\n",
       "      <td>14.800000</td>\n",
       "    </tr>\n",
       "    <tr>\n",
       "      <th>6339561</th>\n",
       "      <td>1</td>\n",
       "      <td>1</td>\n",
       "      <td>17.5</td>\n",
       "      <td>4.11</td>\n",
       "      <td>21.500000</td>\n",
       "    </tr>\n",
       "    <tr>\n",
       "      <th>6339563</th>\n",
       "      <td>1</td>\n",
       "      <td>1</td>\n",
       "      <td>13.0</td>\n",
       "      <td>2.13</td>\n",
       "      <td>19.000000</td>\n",
       "    </tr>\n",
       "    <tr>\n",
       "      <th>6339564</th>\n",
       "      <td>1</td>\n",
       "      <td>1</td>\n",
       "      <td>12.5</td>\n",
       "      <td>2.55</td>\n",
       "      <td>16.283333</td>\n",
       "    </tr>\n",
       "    <tr>\n",
       "      <th>6339566</th>\n",
       "      <td>1</td>\n",
       "      <td>1</td>\n",
       "      <td>0.0</td>\n",
       "      <td>0.00</td>\n",
       "      <td>1.066667</td>\n",
       "    </tr>\n",
       "  </tbody>\n",
       "</table>\n",
       "<p>2780283 rows × 5 columns</p>\n",
       "</div>"
      ],
      "text/plain": [
       "         passenger_count  payment_type  fare_amount  trip_distance   duration\n",
       "0                      1             1          6.0           1.20   4.800000\n",
       "1                      1             1          7.0           1.20   7.416667\n",
       "2                      1             1          6.0           0.60   6.183333\n",
       "3                      1             1          5.5           0.80   4.850000\n",
       "4                      1             2          3.5           0.00   2.300000\n",
       "...                  ...           ...          ...            ...        ...\n",
       "6339555                3             1         10.0           2.09  14.800000\n",
       "6339561                1             1         17.5           4.11  21.500000\n",
       "6339563                1             1         13.0           2.13  19.000000\n",
       "6339564                1             1         12.5           2.55  16.283333\n",
       "6339566                1             1          0.0           0.00   1.066667\n",
       "\n",
       "[2780283 rows x 5 columns]"
      ]
     },
     "execution_count": 144,
     "metadata": {},
     "output_type": "execute_result"
    }
   ],
   "source": [
    "### these are categorical data\n",
    "#since we need to perform analysis on 1='card' and 2='cash' we delete data of payment done through other modes\n",
    "df=df[df['payment_type']<3]\n",
    "#since the passenger in the  taxi ride would not be more than 5 we delete passengers more than 5\n",
    "df=df[(df['passenger_count']>0) & (df['passenger_count']<6)]\n",
    "df"
   ]
  },
  {
   "cell_type": "code",
   "execution_count": 145,
   "id": "86a93091-f124-4cf3-a186-e4ebdb0aee84",
   "metadata": {},
   "outputs": [],
   "source": [
    "#rename 1 & 2 with 'Card'  & 'Cash\"\n",
    "df['payment_type'].replace([1,2],['Card','Cash'],inplace=True)"
   ]
  },
  {
   "cell_type": "code",
   "execution_count": 146,
   "id": "c557e9dd-ff41-4f15-85d9-a3e65c50cfe2",
   "metadata": {},
   "outputs": [
    {
     "data": {
      "text/html": [
       "<div>\n",
       "<style scoped>\n",
       "    .dataframe tbody tr th:only-of-type {\n",
       "        vertical-align: middle;\n",
       "    }\n",
       "\n",
       "    .dataframe tbody tr th {\n",
       "        vertical-align: top;\n",
       "    }\n",
       "\n",
       "    .dataframe thead th {\n",
       "        text-align: right;\n",
       "    }\n",
       "</style>\n",
       "<table border=\"1\" class=\"dataframe\">\n",
       "  <thead>\n",
       "    <tr style=\"text-align: right;\">\n",
       "      <th></th>\n",
       "      <th>passenger_count</th>\n",
       "      <th>fare_amount</th>\n",
       "      <th>trip_distance</th>\n",
       "      <th>duration</th>\n",
       "    </tr>\n",
       "  </thead>\n",
       "  <tbody>\n",
       "    <tr>\n",
       "      <th>count</th>\n",
       "      <td>2.780283e+06</td>\n",
       "      <td>2.780283e+06</td>\n",
       "      <td>2.780283e+06</td>\n",
       "      <td>2.780283e+06</td>\n",
       "    </tr>\n",
       "    <tr>\n",
       "      <th>mean</th>\n",
       "      <td>1.733386e+00</td>\n",
       "      <td>1.780567e+01</td>\n",
       "      <td>4.536729e+00</td>\n",
       "      <td>2.415478e+01</td>\n",
       "    </tr>\n",
       "    <tr>\n",
       "      <th>std</th>\n",
       "      <td>1.176652e+00</td>\n",
       "      <td>1.506997e+01</td>\n",
       "      <td>4.895890e+00</td>\n",
       "      <td>9.260031e+01</td>\n",
       "    </tr>\n",
       "    <tr>\n",
       "      <th>min</th>\n",
       "      <td>1.000000e+00</td>\n",
       "      <td>-5.000000e+02</td>\n",
       "      <td>-2.218000e+01</td>\n",
       "      <td>-2.770367e+03</td>\n",
       "    </tr>\n",
       "    <tr>\n",
       "      <th>25%</th>\n",
       "      <td>1.000000e+00</td>\n",
       "      <td>9.000000e+00</td>\n",
       "      <td>1.500000e+00</td>\n",
       "      <td>9.883333e+00</td>\n",
       "    </tr>\n",
       "    <tr>\n",
       "      <th>50%</th>\n",
       "      <td>1.000000e+00</td>\n",
       "      <td>1.300000e+01</td>\n",
       "      <td>2.730000e+00</td>\n",
       "      <td>1.573333e+01</td>\n",
       "    </tr>\n",
       "    <tr>\n",
       "      <th>75%</th>\n",
       "      <td>2.000000e+00</td>\n",
       "      <td>2.100000e+01</td>\n",
       "      <td>5.470000e+00</td>\n",
       "      <td>2.336667e+01</td>\n",
       "    </tr>\n",
       "    <tr>\n",
       "      <th>max</th>\n",
       "      <td>5.000000e+00</td>\n",
       "      <td>4.265000e+03</td>\n",
       "      <td>2.628800e+02</td>\n",
       "      <td>8.525117e+03</td>\n",
       "    </tr>\n",
       "  </tbody>\n",
       "</table>\n",
       "</div>"
      ],
      "text/plain": [
       "       passenger_count   fare_amount  trip_distance      duration\n",
       "count     2.780283e+06  2.780283e+06   2.780283e+06  2.780283e+06\n",
       "mean      1.733386e+00  1.780567e+01   4.536729e+00  2.415478e+01\n",
       "std       1.176652e+00  1.506997e+01   4.895890e+00  9.260031e+01\n",
       "min       1.000000e+00 -5.000000e+02  -2.218000e+01 -2.770367e+03\n",
       "25%       1.000000e+00  9.000000e+00   1.500000e+00  9.883333e+00\n",
       "50%       1.000000e+00  1.300000e+01   2.730000e+00  1.573333e+01\n",
       "75%       2.000000e+00  2.100000e+01   5.470000e+00  2.336667e+01\n",
       "max       5.000000e+00  4.265000e+03   2.628800e+02  8.525117e+03"
      ]
     },
     "execution_count": 146,
     "metadata": {},
     "output_type": "execute_result"
    }
   ],
   "source": [
    "df.describe()"
   ]
  },
  {
   "cell_type": "code",
   "execution_count": 147,
   "id": "be089e85-bb7b-442c-a735-15ab19c577e9",
   "metadata": {},
   "outputs": [],
   "source": [
    "# these are numerical data\n",
    "#as we see the means of fare_amnt & trip_distance & duration have -ve values we remove rows having -ve values from data\n",
    "df=df[df['fare_amount']>0]\n",
    "df=df[df['trip_distance']>0]\n",
    "df=df[df['duration']>0]"
   ]
  },
  {
   "cell_type": "code",
   "execution_count": 148,
   "id": "6c5456bd-4a6d-46c5-aa1b-f40a18519b8d",
   "metadata": {},
   "outputs": [
    {
     "data": {
      "text/html": [
       "<div>\n",
       "<style scoped>\n",
       "    .dataframe tbody tr th:only-of-type {\n",
       "        vertical-align: middle;\n",
       "    }\n",
       "\n",
       "    .dataframe tbody tr th {\n",
       "        vertical-align: top;\n",
       "    }\n",
       "\n",
       "    .dataframe thead th {\n",
       "        text-align: right;\n",
       "    }\n",
       "</style>\n",
       "<table border=\"1\" class=\"dataframe\">\n",
       "  <thead>\n",
       "    <tr style=\"text-align: right;\">\n",
       "      <th></th>\n",
       "      <th>passenger_count</th>\n",
       "      <th>fare_amount</th>\n",
       "      <th>trip_distance</th>\n",
       "      <th>duration</th>\n",
       "    </tr>\n",
       "  </thead>\n",
       "  <tbody>\n",
       "    <tr>\n",
       "      <th>count</th>\n",
       "      <td>2.748932e+06</td>\n",
       "      <td>2.748932e+06</td>\n",
       "      <td>2.748932e+06</td>\n",
       "      <td>2.748932e+06</td>\n",
       "    </tr>\n",
       "    <tr>\n",
       "      <th>mean</th>\n",
       "      <td>1.738151e+00</td>\n",
       "      <td>1.766835e+01</td>\n",
       "      <td>4.583313e+00</td>\n",
       "      <td>2.418261e+01</td>\n",
       "    </tr>\n",
       "    <tr>\n",
       "      <th>std</th>\n",
       "      <td>1.179440e+00</td>\n",
       "      <td>1.447531e+01</td>\n",
       "      <td>4.897806e+00</td>\n",
       "      <td>9.272285e+01</td>\n",
       "    </tr>\n",
       "    <tr>\n",
       "      <th>min</th>\n",
       "      <td>1.000000e+00</td>\n",
       "      <td>1.000000e-02</td>\n",
       "      <td>1.000000e-02</td>\n",
       "      <td>1.666667e-02</td>\n",
       "    </tr>\n",
       "    <tr>\n",
       "      <th>25%</th>\n",
       "      <td>1.000000e+00</td>\n",
       "      <td>9.000000e+00</td>\n",
       "      <td>1.530000e+00</td>\n",
       "      <td>9.950000e+00</td>\n",
       "    </tr>\n",
       "    <tr>\n",
       "      <th>50%</th>\n",
       "      <td>1.000000e+00</td>\n",
       "      <td>1.300000e+01</td>\n",
       "      <td>2.770000e+00</td>\n",
       "      <td>1.575000e+01</td>\n",
       "    </tr>\n",
       "    <tr>\n",
       "      <th>75%</th>\n",
       "      <td>2.000000e+00</td>\n",
       "      <td>2.100000e+01</td>\n",
       "      <td>5.500000e+00</td>\n",
       "      <td>2.333333e+01</td>\n",
       "    </tr>\n",
       "    <tr>\n",
       "      <th>max</th>\n",
       "      <td>5.000000e+00</td>\n",
       "      <td>4.265000e+03</td>\n",
       "      <td>2.628800e+02</td>\n",
       "      <td>8.525117e+03</td>\n",
       "    </tr>\n",
       "  </tbody>\n",
       "</table>\n",
       "</div>"
      ],
      "text/plain": [
       "       passenger_count   fare_amount  trip_distance      duration\n",
       "count     2.748932e+06  2.748932e+06   2.748932e+06  2.748932e+06\n",
       "mean      1.738151e+00  1.766835e+01   4.583313e+00  2.418261e+01\n",
       "std       1.179440e+00  1.447531e+01   4.897806e+00  9.272285e+01\n",
       "min       1.000000e+00  1.000000e-02   1.000000e-02  1.666667e-02\n",
       "25%       1.000000e+00  9.000000e+00   1.530000e+00  9.950000e+00\n",
       "50%       1.000000e+00  1.300000e+01   2.770000e+00  1.575000e+01\n",
       "75%       2.000000e+00  2.100000e+01   5.500000e+00  2.333333e+01\n",
       "max       5.000000e+00  4.265000e+03   2.628800e+02  8.525117e+03"
      ]
     },
     "execution_count": 148,
     "metadata": {},
     "output_type": "execute_result"
    }
   ],
   "source": [
    "df.describe()"
   ]
  },
  {
   "cell_type": "code",
   "execution_count": 149,
   "id": "729af266-df1b-4c54-9352-826d58f676be",
   "metadata": {},
   "outputs": [
    {
     "data": {
      "image/png": "[encoded data removed]",
      "text/plain": [
       "<Figure size 640x480 with 2 Axes>"
      ]
     },
     "metadata": {},
     "output_type": "display_data"
    }
   ],
   "source": [
    "#we check outliers visually usin histogram and box plot\n",
    "plt.subplot(1,2,1)\n",
    "plt.hist(df['fare_amount'])\n",
    "plt.subplot(1,2,2)\n",
    "plt.boxplot(df['fare_amount'])\n",
    "plt.show()"
   ]
  },
  {
   "cell_type": "code",
   "execution_count": 150,
   "id": "7242aedf-93ac-4ee9-aae9-c7b760f52f7c",
   "metadata": {},
   "outputs": [
    {
     "name": "stdout",
     "output_type": "stream",
     "text": [
      "         passenger_count payment_type  fare_amount  trip_distance   duration\n",
      "0                      1         Card          6.0           1.20   4.800000\n",
      "1                      1         Card          7.0           1.20   7.416667\n",
      "2                      1         Card          6.0           0.60   6.183333\n",
      "3                      1         Card          5.5           0.80   4.850000\n",
      "5                      1         Cash          2.5           0.03   0.883333\n",
      "...                  ...          ...          ...            ...        ...\n",
      "6339550                4         Card         10.5           2.40  12.383333\n",
      "6339555                3         Card         10.0           2.09  14.800000\n",
      "6339561                1         Card         17.5           4.11  21.500000\n",
      "6339563                1         Card         13.0           2.13  19.000000\n",
      "6339564                1         Card         12.5           2.55  16.283333\n",
      "\n",
      "[2297908 rows x 5 columns]\n"
     ]
    }
   ],
   "source": [
    "#as we observe the outliers effecting the result we remove them\n",
    "\n",
    "# we can remove outliers through z-score (if data is normally distributed) and through Intequantile range(IQR)\n",
    "#since data is not normally distributed we use IQR\n",
    "for col in ['fare_amount','trip_distance','duration']:\n",
    "    q1=df[col].quantile(0.25)\n",
    "    q3=df[col].quantile(0.75)\n",
    "    IQR = q3 - q1\n",
    "    lower_bound = q1-1.5 * IQR\n",
    "    upper_bound = q3+1.5 * IQR\n",
    "    df=df[(df[col]>=lower_bound) & (df[col]<=upper_bound)]\n",
    "print(df)"
   ]
  },
  {
   "cell_type": "code",
   "execution_count": 151,
   "id": "63163842-eccc-4fad-b755-999bf5a0bd98",
   "metadata": {},
   "outputs": [],
   "source": [
    "# Data Visualization"
   ]
  },
  {
   "cell_type": "code",
   "execution_count": 152,
   "id": "7a2809bd-b0e9-464b-a3ce-c1af45ce81b9",
   "metadata": {},
   "outputs": [
    {
     "data": {
      "image/png": "[encoded data removed]",
      "text/plain": [
       "<Figure size 1200x500 with 2 Axes>"
      ]
     },
     "metadata": {},
     "output_type": "display_data"
    }
   ],
   "source": [
    "plt.figure(figsize=(12,5))\n",
    "plt.subplot(1,2,1)\n",
    "plt.title('Distribution of fare amount')\n",
    "plt.hist(df[df['payment_type']=='Card']['fare_amount'],histtype='barstacked',bins=20,edgecolor='k',color='#FA643F',label='Card')\n",
    "plt.hist(df[df['payment_type']=='Cash']['fare_amount'],histtype='barstacked',bins=20,edgecolor='k',color='#FFBCAB',label='Cash')\n",
    "plt.legend()\n",
    "\n",
    "plt.subplot(1,2,2)\n",
    "plt.title('Distribution of trip distance')\n",
    "plt.hist(df[df['payment_type']=='Card']['trip_distance'],histtype='barstacked',bins=20,edgecolor='k',color='#FA643F',label='Card')\n",
    "plt.hist(df[df['payment_type']=='Cash']['trip_distance'],histtype='barstacked',bins=20,edgecolor='k',color='#FFBCAB',label='Cash')\n",
    "plt.legend()\n",
    "plt.show()"
   ]
  },
  {
   "cell_type": "code",
   "execution_count": 153,
   "id": "9b83f4aa-d2ab-4471-9372-608454d88f97",
   "metadata": {},
   "outputs": [
    {
     "data": {
      "text/html": [
       "<div>\n",
       "<style scoped>\n",
       "    .dataframe tbody tr th:only-of-type {\n",
       "        vertical-align: middle;\n",
       "    }\n",
       "\n",
       "    .dataframe tbody tr th {\n",
       "        vertical-align: top;\n",
       "    }\n",
       "\n",
       "    .dataframe thead tr th {\n",
       "        text-align: left;\n",
       "    }\n",
       "\n",
       "    .dataframe thead tr:last-of-type th {\n",
       "        text-align: right;\n",
       "    }\n",
       "</style>\n",
       "<table border=\"1\" class=\"dataframe\">\n",
       "  <thead>\n",
       "    <tr>\n",
       "      <th></th>\n",
       "      <th colspan=\"2\" halign=\"left\">fare_amount</th>\n",
       "      <th colspan=\"2\" halign=\"left\">trip_distance</th>\n",
       "    </tr>\n",
       "    <tr>\n",
       "      <th></th>\n",
       "      <th>mean</th>\n",
       "      <th>std</th>\n",
       "      <th>mean</th>\n",
       "      <th>std</th>\n",
       "    </tr>\n",
       "    <tr>\n",
       "      <th>payment_type</th>\n",
       "      <th></th>\n",
       "      <th></th>\n",
       "      <th></th>\n",
       "      <th></th>\n",
       "    </tr>\n",
       "  </thead>\n",
       "  <tbody>\n",
       "    <tr>\n",
       "      <th>Card</th>\n",
       "      <td>13.112493</td>\n",
       "      <td>5.849281</td>\n",
       "      <td>2.992237</td>\n",
       "      <td>1.99274</td>\n",
       "    </tr>\n",
       "    <tr>\n",
       "      <th>Cash</th>\n",
       "      <td>11.758005</td>\n",
       "      <td>5.613038</td>\n",
       "      <td>2.602207</td>\n",
       "      <td>1.91372</td>\n",
       "    </tr>\n",
       "  </tbody>\n",
       "</table>\n",
       "</div>"
      ],
      "text/plain": [
       "             fare_amount           trip_distance         \n",
       "                    mean       std          mean      std\n",
       "payment_type                                             \n",
       "Card           13.112493  5.849281      2.992237  1.99274\n",
       "Cash           11.758005  5.613038      2.602207  1.91372"
      ]
     },
     "execution_count": 153,
     "metadata": {},
     "output_type": "execute_result"
    }
   ],
   "source": [
    "#to calculate aggregate functions such as mean, standard deviation etc. we use groupby and agg functions\n",
    "df.groupby('payment_type').agg({'fare_amount':['mean','std'],'trip_distance':['mean','std']})\n",
    "#we observe that the mean and stand.dev of card is more for both fare amnt and tripdistance which shows payment through card is more"
   ]
  },
  {
   "cell_type": "code",
   "execution_count": 154,
   "id": "cb86f245-7ca9-4186-89f2-cfa39edcadf5",
   "metadata": {},
   "outputs": [
    {
     "data": {
      "image/png": "[encoded data removed]",
      "text/plain": [
       "<Figure size 640x480 with 1 Axes>"
      ]
     },
     "metadata": {},
     "output_type": "display_data"
    }
   ],
   "source": [
    "#to visually represent the total percentage of card and cash we use pie chart\n",
    "plt.title('Preference of Payment Type')\n",
    "plt.pie(df['payment_type'].value_counts(normalize=True),labels=df['payment_type'].value_counts().index,startangle=90,autopct='%1.1f%%',\n",
    "        colors=['#FA643F','#FFBCAB'],shadow=True)\n",
    "plt.show()"
   ]
  },
  {
   "cell_type": "code",
   "execution_count": 155,
   "id": "029311f6-8482-4658-8e57-c0b858d9a07d",
   "metadata": {},
   "outputs": [
    {
     "data": {
      "text/html": [
       "<div>\n",
       "<style scoped>\n",
       "    .dataframe tbody tr th:only-of-type {\n",
       "        vertical-align: middle;\n",
       "    }\n",
       "\n",
       "    .dataframe tbody tr th {\n",
       "        vertical-align: top;\n",
       "    }\n",
       "\n",
       "    .dataframe thead th {\n",
       "        text-align: right;\n",
       "    }\n",
       "</style>\n",
       "<table border=\"1\" class=\"dataframe\">\n",
       "  <thead>\n",
       "    <tr style=\"text-align: right;\">\n",
       "      <th></th>\n",
       "      <th></th>\n",
       "      <th>passenger_count</th>\n",
       "    </tr>\n",
       "    <tr>\n",
       "      <th>payment_type</th>\n",
       "      <th>passenger_count</th>\n",
       "      <th></th>\n",
       "    </tr>\n",
       "  </thead>\n",
       "  <tbody>\n",
       "    <tr>\n",
       "      <th rowspan=\"5\" valign=\"top\">Card</th>\n",
       "      <th>1</th>\n",
       "      <td>909245</td>\n",
       "    </tr>\n",
       "    <tr>\n",
       "      <th>2</th>\n",
       "      <td>327661</td>\n",
       "    </tr>\n",
       "    <tr>\n",
       "      <th>3</th>\n",
       "      <td>122412</td>\n",
       "    </tr>\n",
       "    <tr>\n",
       "      <th>4</th>\n",
       "      <td>63676</td>\n",
       "    </tr>\n",
       "    <tr>\n",
       "      <th>5</th>\n",
       "      <td>124045</td>\n",
       "    </tr>\n",
       "    <tr>\n",
       "      <th rowspan=\"5\" valign=\"top\">Cash</th>\n",
       "      <th>1</th>\n",
       "      <td>460550</td>\n",
       "    </tr>\n",
       "    <tr>\n",
       "      <th>2</th>\n",
       "      <td>155472</td>\n",
       "    </tr>\n",
       "    <tr>\n",
       "      <th>3</th>\n",
       "      <td>54506</td>\n",
       "    </tr>\n",
       "    <tr>\n",
       "      <th>4</th>\n",
       "      <td>32715</td>\n",
       "    </tr>\n",
       "    <tr>\n",
       "      <th>5</th>\n",
       "      <td>47626</td>\n",
       "    </tr>\n",
       "  </tbody>\n",
       "</table>\n",
       "</div>"
      ],
      "text/plain": [
       "                              passenger_count\n",
       "payment_type passenger_count                 \n",
       "Card         1                         909245\n",
       "             2                         327661\n",
       "             3                         122412\n",
       "             4                          63676\n",
       "             5                         124045\n",
       "Cash         1                         460550\n",
       "             2                         155472\n",
       "             3                          54506\n",
       "             4                          32715\n",
       "             5                          47626"
      ]
     },
     "execution_count": 155,
     "metadata": {},
     "output_type": "execute_result"
    }
   ],
   "source": [
    "#now we visualize payment type with respective of passenger count\n",
    "#for that we group payment type and passenger count\n",
    "df.groupby(['payment_type','passenger_count'])[['passenger_count']].count()"
   ]
  },
  {
   "cell_type": "code",
   "execution_count": 156,
   "id": "66964489-682a-432b-b4c3-26b051c76b9c",
   "metadata": {},
   "outputs": [
    {
     "data": {
      "text/html": [
       "<div>\n",
       "<style scoped>\n",
       "    .dataframe tbody tr th:only-of-type {\n",
       "        vertical-align: middle;\n",
       "    }\n",
       "\n",
       "    .dataframe tbody tr th {\n",
       "        vertical-align: top;\n",
       "    }\n",
       "\n",
       "    .dataframe thead th {\n",
       "        text-align: right;\n",
       "    }\n",
       "</style>\n",
       "<table border=\"1\" class=\"dataframe\">\n",
       "  <thead>\n",
       "    <tr style=\"text-align: right;\">\n",
       "      <th></th>\n",
       "      <th>payment_type</th>\n",
       "      <th>passenger_count</th>\n",
       "      <th>count</th>\n",
       "      <th>perc</th>\n",
       "    </tr>\n",
       "  </thead>\n",
       "  <tbody>\n",
       "    <tr>\n",
       "      <th>0</th>\n",
       "      <td>Card</td>\n",
       "      <td>1</td>\n",
       "      <td>909245</td>\n",
       "      <td>39.568381</td>\n",
       "    </tr>\n",
       "    <tr>\n",
       "      <th>1</th>\n",
       "      <td>Card</td>\n",
       "      <td>2</td>\n",
       "      <td>327661</td>\n",
       "      <td>14.259100</td>\n",
       "    </tr>\n",
       "    <tr>\n",
       "      <th>2</th>\n",
       "      <td>Card</td>\n",
       "      <td>3</td>\n",
       "      <td>122412</td>\n",
       "      <td>5.327106</td>\n",
       "    </tr>\n",
       "    <tr>\n",
       "      <th>3</th>\n",
       "      <td>Card</td>\n",
       "      <td>4</td>\n",
       "      <td>63676</td>\n",
       "      <td>2.771042</td>\n",
       "    </tr>\n",
       "    <tr>\n",
       "      <th>4</th>\n",
       "      <td>Card</td>\n",
       "      <td>5</td>\n",
       "      <td>124045</td>\n",
       "      <td>5.398171</td>\n",
       "    </tr>\n",
       "    <tr>\n",
       "      <th>5</th>\n",
       "      <td>Cash</td>\n",
       "      <td>1</td>\n",
       "      <td>460550</td>\n",
       "      <td>20.042143</td>\n",
       "    </tr>\n",
       "    <tr>\n",
       "      <th>6</th>\n",
       "      <td>Cash</td>\n",
       "      <td>2</td>\n",
       "      <td>155472</td>\n",
       "      <td>6.765806</td>\n",
       "    </tr>\n",
       "    <tr>\n",
       "      <th>7</th>\n",
       "      <td>Cash</td>\n",
       "      <td>3</td>\n",
       "      <td>54506</td>\n",
       "      <td>2.371984</td>\n",
       "    </tr>\n",
       "    <tr>\n",
       "      <th>8</th>\n",
       "      <td>Cash</td>\n",
       "      <td>4</td>\n",
       "      <td>32715</td>\n",
       "      <td>1.423686</td>\n",
       "    </tr>\n",
       "    <tr>\n",
       "      <th>9</th>\n",
       "      <td>Cash</td>\n",
       "      <td>5</td>\n",
       "      <td>47626</td>\n",
       "      <td>2.072581</td>\n",
       "    </tr>\n",
       "  </tbody>\n",
       "</table>\n",
       "</div>"
      ],
      "text/plain": [
       "  payment_type  passenger_count   count       perc\n",
       "0         Card                1  909245  39.568381\n",
       "1         Card                2  327661  14.259100\n",
       "2         Card                3  122412   5.327106\n",
       "3         Card                4   63676   2.771042\n",
       "4         Card                5  124045   5.398171\n",
       "5         Cash                1  460550  20.042143\n",
       "6         Cash                2  155472   6.765806\n",
       "7         Cash                3   54506   2.371984\n",
       "8         Cash                4   32715   1.423686\n",
       "9         Cash                5   47626   2.072581"
      ]
     },
     "execution_count": 156,
     "metadata": {},
     "output_type": "execute_result"
    }
   ],
   "source": [
    "#we create another data frame of passenger_count and store the above table\n",
    "passenger_count = df.groupby(['payment_type','passenger_count'])[['passenger_count']].count()\n",
    "\n",
    "#renaming the column\n",
    "passenger_count.rename(columns={'passenger_count':'count'},inplace = True)\n",
    "\n",
    "passenger_count.reset_index(inplace=True)\n",
    "\n",
    "#we add percentage column in the data frame\n",
    "passenger_count['perc']=(passenger_count['count']/passenger_count['count'].sum())*100\n",
    "passenger_count"
   ]
  },
  {
   "cell_type": "code",
   "execution_count": 157,
   "id": "679dfa5e-e696-49d3-8ab7-f8340a067d9e",
   "metadata": {},
   "outputs": [
    {
     "data": {
      "text/html": [
       "<div>\n",
       "<style scoped>\n",
       "    .dataframe tbody tr th:only-of-type {\n",
       "        vertical-align: middle;\n",
       "    }\n",
       "\n",
       "    .dataframe tbody tr th {\n",
       "        vertical-align: top;\n",
       "    }\n",
       "\n",
       "    .dataframe thead th {\n",
       "        text-align: right;\n",
       "    }\n",
       "</style>\n",
       "<table border=\"1\" class=\"dataframe\">\n",
       "  <thead>\n",
       "    <tr style=\"text-align: right;\">\n",
       "      <th></th>\n",
       "      <th>payment_type</th>\n",
       "      <th>1</th>\n",
       "      <th>2</th>\n",
       "      <th>3</th>\n",
       "      <th>4</th>\n",
       "      <th>5</th>\n",
       "    </tr>\n",
       "  </thead>\n",
       "  <tbody>\n",
       "    <tr>\n",
       "      <th>0</th>\n",
       "      <td>Card</td>\n",
       "      <td>39.568381</td>\n",
       "      <td>14.2591</td>\n",
       "      <td>5.327106</td>\n",
       "      <td>2.771042</td>\n",
       "      <td>5.398171</td>\n",
       "    </tr>\n",
       "    <tr>\n",
       "      <th>1</th>\n",
       "      <td>Cash</td>\n",
       "      <td>20.042143</td>\n",
       "      <td>6.765806</td>\n",
       "      <td>2.371984</td>\n",
       "      <td>1.423686</td>\n",
       "      <td>2.072581</td>\n",
       "    </tr>\n",
       "  </tbody>\n",
       "</table>\n",
       "</div>"
      ],
      "text/plain": [
       "  payment_type          1         2         3         4         5\n",
       "0         Card  39.568381   14.2591  5.327106  2.771042  5.398171\n",
       "1         Cash  20.042143  6.765806  2.371984  1.423686  2.072581"
      ]
     },
     "execution_count": 157,
     "metadata": {},
     "output_type": "execute_result"
    }
   ],
   "source": [
    "#we create a custom data frame to trandsform the existing data frame values\n",
    "#we ceate a new data frame because to create a stacked bar chart\n",
    "#we if we use direct bar chart we get normal bar chart\n",
    "d=pd.DataFrame(columns=['payment_type',1,2,3,4,5])\n",
    "# payment_type is seeting with card and cash values\n",
    "d['payment_type']=['Card','Cash']\n",
    "d.iloc[0,1:]=passenger_count.iloc[0:5,-1]\n",
    "d.iloc[1,1:]=passenger_count.iloc[5:,-1] # (or) df.iloc[1,1:]=passenger_count.iloc[5:len(passenger_count),-1]\n",
    "d"
   ]
  },
  {
   "cell_type": "code",
   "execution_count": 158,
   "id": "67ebad54-11eb-4e12-aa14-e16ddc269782",
   "metadata": {},
   "outputs": [
    {
     "data": {
      "image/png": "[encoded data removed]",
      "text/plain": [
       "<Figure size 2000x600 with 1 Axes>"
      ]
     },
     "metadata": {},
     "output_type": "display_data"
    }
   ],
   "source": [
    "# We create stack bar chart\n",
    "fig,ax= plt.subplots(figsize=(20,6))\n",
    "#ax is plot inside plot use dto size the stacked bars\n",
    "d.plot(x='payment_type',kind='barh',stacked=True,ax = ax,color=['#FA643F','#FFBCAB','#CBB2B2','#F1F1F1','#FD9F9F'])\n",
    "\n",
    "#labelling percentages in bars\n",
    "for p in ax.patches:\n",
    "    width=p.get_width()\n",
    "    height=p.get_height()\n",
    "    x,y=p.get_xy()\n",
    "    ax.text(x+width/2,y+height/2,'{:.0f}%'.format(width),horizontalalignment='center',verticalalignment='center')"
   ]
  },
  {
   "cell_type": "code",
   "execution_count": 159,
   "id": "a541378f-2e00-4271-9e11-23a6b6b058d3",
   "metadata": {},
   "outputs": [],
   "source": [
    "# Hypothesis Testing\n",
    "# Null Hypothesis: there is no diff in average fare b/w customers who use credit cards & customers who use cash\n",
    "# Alternate Hypothesis : there is diff in average fare b/w customers who use credit cards & customers who use cash"
   ]
  },
  {
   "cell_type": "code",
   "execution_count": 160,
   "id": "a85fc5bf-5b4c-4ccb-ad0e-02aa874416cd",
   "metadata": {},
   "outputs": [
    {
     "data": {
      "text/html": [
       "<div>\n",
       "<style scoped>\n",
       "    .dataframe tbody tr th:only-of-type {\n",
       "        vertical-align: middle;\n",
       "    }\n",
       "\n",
       "    .dataframe tbody tr th {\n",
       "        vertical-align: top;\n",
       "    }\n",
       "\n",
       "    .dataframe thead th {\n",
       "        text-align: right;\n",
       "    }\n",
       "</style>\n",
       "<table border=\"1\" class=\"dataframe\">\n",
       "  <thead>\n",
       "    <tr style=\"text-align: right;\">\n",
       "      <th></th>\n",
       "      <th>passenger_count</th>\n",
       "      <th>payment_type</th>\n",
       "      <th>fare_amount</th>\n",
       "      <th>trip_distance</th>\n",
       "      <th>duration</th>\n",
       "    </tr>\n",
       "  </thead>\n",
       "  <tbody>\n",
       "    <tr>\n",
       "      <th>0</th>\n",
       "      <td>1</td>\n",
       "      <td>Card</td>\n",
       "      <td>6.0</td>\n",
       "      <td>1.20</td>\n",
       "      <td>4.800000</td>\n",
       "    </tr>\n",
       "    <tr>\n",
       "      <th>1</th>\n",
       "      <td>1</td>\n",
       "      <td>Card</td>\n",
       "      <td>7.0</td>\n",
       "      <td>1.20</td>\n",
       "      <td>7.416667</td>\n",
       "    </tr>\n",
       "    <tr>\n",
       "      <th>2</th>\n",
       "      <td>1</td>\n",
       "      <td>Card</td>\n",
       "      <td>6.0</td>\n",
       "      <td>0.60</td>\n",
       "      <td>6.183333</td>\n",
       "    </tr>\n",
       "    <tr>\n",
       "      <th>3</th>\n",
       "      <td>1</td>\n",
       "      <td>Card</td>\n",
       "      <td>5.5</td>\n",
       "      <td>0.80</td>\n",
       "      <td>4.850000</td>\n",
       "    </tr>\n",
       "    <tr>\n",
       "      <th>5</th>\n",
       "      <td>1</td>\n",
       "      <td>Cash</td>\n",
       "      <td>2.5</td>\n",
       "      <td>0.03</td>\n",
       "      <td>0.883333</td>\n",
       "    </tr>\n",
       "    <tr>\n",
       "      <th>...</th>\n",
       "      <td>...</td>\n",
       "      <td>...</td>\n",
       "      <td>...</td>\n",
       "      <td>...</td>\n",
       "      <td>...</td>\n",
       "    </tr>\n",
       "    <tr>\n",
       "      <th>6339550</th>\n",
       "      <td>4</td>\n",
       "      <td>Card</td>\n",
       "      <td>10.5</td>\n",
       "      <td>2.40</td>\n",
       "      <td>12.383333</td>\n",
       "    </tr>\n",
       "    <tr>\n",
       "      <th>6339555</th>\n",
       "      <td>3</td>\n",
       "      <td>Card</td>\n",
       "      <td>10.0</td>\n",
       "      <td>2.09</td>\n",
       "      <td>14.800000</td>\n",
       "    </tr>\n",
       "    <tr>\n",
       "      <th>6339561</th>\n",
       "      <td>1</td>\n",
       "      <td>Card</td>\n",
       "      <td>17.5</td>\n",
       "      <td>4.11</td>\n",
       "      <td>21.500000</td>\n",
       "    </tr>\n",
       "    <tr>\n",
       "      <th>6339563</th>\n",
       "      <td>1</td>\n",
       "      <td>Card</td>\n",
       "      <td>13.0</td>\n",
       "      <td>2.13</td>\n",
       "      <td>19.000000</td>\n",
       "    </tr>\n",
       "    <tr>\n",
       "      <th>6339564</th>\n",
       "      <td>1</td>\n",
       "      <td>Card</td>\n",
       "      <td>12.5</td>\n",
       "      <td>2.55</td>\n",
       "      <td>16.283333</td>\n",
       "    </tr>\n",
       "  </tbody>\n",
       "</table>\n",
       "<p>2297908 rows × 5 columns</p>\n",
       "</div>"
      ],
      "text/plain": [
       "         passenger_count payment_type  fare_amount  trip_distance   duration\n",
       "0                      1         Card          6.0           1.20   4.800000\n",
       "1                      1         Card          7.0           1.20   7.416667\n",
       "2                      1         Card          6.0           0.60   6.183333\n",
       "3                      1         Card          5.5           0.80   4.850000\n",
       "5                      1         Cash          2.5           0.03   0.883333\n",
       "...                  ...          ...          ...            ...        ...\n",
       "6339550                4         Card         10.5           2.40  12.383333\n",
       "6339555                3         Card         10.0           2.09  14.800000\n",
       "6339561                1         Card         17.5           4.11  21.500000\n",
       "6339563                1         Card         13.0           2.13  19.000000\n",
       "6339564                1         Card         12.5           2.55  16.283333\n",
       "\n",
       "[2297908 rows x 5 columns]"
      ]
     },
     "execution_count": 160,
     "metadata": {},
     "output_type": "execute_result"
    }
   ],
   "source": [
    "df"
   ]
  },
  {
   "cell_type": "code",
   "execution_count": 161,
   "id": "4de45ae8-e608-492f-8ce1-b745fdabc00a",
   "metadata": {},
   "outputs": [
    {
     "data": {
      "image/png": "[encoded data removed]",
      "text/plain": [
       "<Figure size 640x480 with 1 Axes>"
      ]
     },
     "metadata": {},
     "output_type": "display_data"
    }
   ],
   "source": [
    "#to check wether the data is normally distributed or not we use qqplot from statsmodel.api package\n",
    "df\n",
    "sm.qqplot(df['fare_amount'],line='45')\n",
    "plt.show()"
   ]
  },
  {
   "cell_type": "code",
   "execution_count": 162,
   "id": "b3ef7f33-11d9-4ddf-869d-7fffde9a2e1c",
   "metadata": {},
   "outputs": [
    {
     "name": "stdout",
     "output_type": "stream",
     "text": [
      "T-Test is :  169.2111527245052 P-value is :  0.0\n"
     ]
    }
   ],
   "source": [
    "#since data is not normally distributed , sigma is unknown and fare amount is continous we neglect chi-square and z-test and we perform t-test\n",
    "#we take two samples from data frame\n",
    "card_sample = df[df['payment_type']=='Card']['fare_amount']\n",
    "cash_sample = df[df['payment_type']=='Cash']['fare_amount']\n",
    "\n",
    "#ttest_ind from scipy package is used calculate t_stat and p_values\n",
    "t_stats,p_value=st.ttest_ind(a=card_sample,b=cash_sample,equal_var=False)\n",
    "print(\"T-Test is : \",t_stats,\"P-value is : \",p_value)"
   ]
  },
  {
   "cell_type": "code",
   "execution_count": null,
   "id": "5172221c-9544-4ad4-8b6a-b9ca66e193ea",
   "metadata": {},
   "outputs": [],
   "source": []
  },
  {
   "cell_type": "code",
   "execution_count": null,
   "id": "bd09bb35-9055-4a9a-b02f-318dc51ae19f",
   "metadata": {},
   "outputs": [],
   "source": []
  },
  {
   "cell_type": "code",
   "execution_count": null,
   "id": "4c18d1e1-5feb-409c-ab12-3d5bccf5356c",
   "metadata": {},
   "outputs": [],
   "source": []
  }
 ],
 "metadata": {
  "kernelspec": {
   "display_name": "Python 3 (ipykernel)",
   "language": "python",
   "name": "python3"
  },
  "language_info": {
   "codemirror_mode": {
    "name": "ipython",
    "version": 3
   },
   "file_extension": ".py",
   "mimetype": "text/x-python",
   "name": "python",
   "nbconvert_exporter": "python",
   "pygments_lexer": "ipython3",
   "version": "3.12.3"
  }
 },
 "nbformat": 4,
 "nbformat_minor": 5
}
